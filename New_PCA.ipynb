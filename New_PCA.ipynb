{
 "cells": [
  {
   "cell_type": "code",
   "execution_count": 1,
   "metadata": {},
   "outputs": [],
   "source": [
    "import numpy as np # linear algebra\n",
    "import pandas as pd # data processing, CSV file I/O (e.g. pd.read_csv)\n",
    "import matplotlib.pyplot as plt\n",
    "import skimage.io as skio\n",
    "\n",
    "# Input data files are available in the \"../input/\" directory.\n",
    "# For example, running this (by clicking run or pressing Shift+Enter) will list the files in the input directory\n",
    "\n",
    "import os\n",
    "import glob"
   ]
  },
  {
   "cell_type": "code",
   "execution_count": 49,
   "metadata": {},
   "outputs": [],
   "source": [
    "import cv2\n",
    "from cv_Project.FaceDetection import *\n",
    "Face = FaceDetection()\n",
    "def cut_image(img_path):\n",
    "    faces,dim = Face.detect_faces(img_path)\n",
    "    img = cv2.imread(img_path,0)\n",
    "    max_index = 0\n",
    "    if len(dim)>1:\n",
    "        for i in range(len(dim)):\n",
    "            if dim[i][2]>=dim[max_index][2]:\n",
    "                max_index = i\n",
    "    if len(dim) == 0:\n",
    "        return 0\n",
    "    else:\n",
    "        new_img = img[dim[max_index][1]:dim[max_index][1]+dim[max_index][3],dim[max_index][0]:dim[max_index][0]+dim[max_index][2]]\n",
    "        return new_img\n",
    "        # plt.imshow(new_img,cmap=\"gray\")"
   ]
  },
  {
   "cell_type": "code",
   "execution_count": 53,
   "metadata": {},
   "outputs": [],
   "source": [
    "X = []\n",
    "y = []\n",
    "names = ['Ahmed','Rabea','Nasser','Dina','Abdlerhman']\n",
    "for j in range(len(names)):\n",
    "    folder = os.listdir(f'./data/{names[j]}')\n",
    "    for file in folder:\n",
    "        img_path = f'./data/{names[j]}/{file}'\n",
    "        img = cut_image(img_path)\n",
    "        if type(img) != int:\n",
    "            X.append(img)\n",
    "            y.append(j)"
   ]
  },
  {
   "cell_type": "code",
   "execution_count": 112,
   "metadata": {},
   "outputs": [],
   "source": [
    "import numpy as np"
   ]
  },
  {
   "cell_type": "code",
   "execution_count": 58,
   "metadata": {},
   "outputs": [],
   "source": [
    "for i in range(len(X)):\n",
    "    X[i] = cv2.resize(X[i],(64,64))"
   ]
  },
  {
   "cell_type": "code",
   "execution_count": 59,
   "metadata": {},
   "outputs": [],
   "source": [
    "np.save('X',np.array(X))\n",
    "np.save('y',np.array(y))"
   ]
  },
  {
   "cell_type": "code",
   "execution_count": 147,
   "metadata": {},
   "outputs": [],
   "source": [
    "X_data = np.load('./X.npy')\n",
    "y_data = np.load('./y.npy')"
   ]
  },
  {
   "cell_type": "code",
   "execution_count": 148,
   "metadata": {},
   "outputs": [],
   "source": [
    "from sklearn.model_selection import train_test_split\n",
    "X_train,X_test,y_train,y_test = train_test_split(X_data,y_data,test_size=0.3)"
   ]
  },
  {
   "cell_type": "code",
   "execution_count": 149,
   "metadata": {},
   "outputs": [],
   "source": [
    "def preprocess_data( faces_train, faces_test ):\n",
    "    # flatten the imagaes from \n",
    "    X_train =  np.reshape(faces_train,(faces_train.shape[0], -1 ))\n",
    "    X_test =   np.reshape(faces_test, (faces_test.shape[0], -1 ))\n",
    "    mu = np.mean(X_train, axis = 0 )\n",
    "    std_dev = np.mean(X_train, axis = 0)\n",
    "    std_dev_mod = np.copy(std_dev)\n",
    "    std_dev_mod[std_dev == 0 ] = 1\n",
    "    X_train = (X_train - mu)/std_dev_mod\n",
    "    # normalize the test set with same mu and std values as training set \n",
    "    X_test = (X_test - mu)/std_dev_mod\n",
    "    return X_train, X_test   \n",
    "    "
   ]
  },
  {
   "cell_type": "code",
   "execution_count": 150,
   "metadata": {},
   "outputs": [],
   "source": [
    "X_train, X_test = preprocess_data(X_train,X_test)"
   ]
  },
  {
   "cell_type": "code",
   "execution_count": 151,
   "metadata": {},
   "outputs": [],
   "source": [
    "class PCA:\n",
    "    def __init__( self, optimize = False ):\n",
    "        self.__optimize = optimize\n",
    "        \n",
    "    def __calculate_covariance_matrix( self, X ):\n",
    "        if self.__optimize:\n",
    "            return X @ X.T\n",
    "        else:\n",
    "            return X.T @ X\n",
    "\n",
    "    def __get_eigenvecs_sorted_by_eigenvals( self, S ):\n",
    "        w, v = np.linalg.eig(S)\n",
    "        sorted_index = np.argsort(w)[::-1]\n",
    "        eigenvals = w[sorted_index]\n",
    "        eigenvecs = v[:,sorted_index]\n",
    "        return eigenvals, eigenvecs\n",
    "\n",
    "    def __get_eigenvec_for_original_matrix(  self, X, eigenvecs ):\n",
    "        U = X.T @ eigenvecs\n",
    "        return U\n",
    "    \n",
    "    def fit( self, X ):\n",
    "        S = self.__calculate_covariance_matrix( X )\n",
    "        eigenvals,eigenvecs =   self.__get_eigenvecs_sorted_by_eigenvals( S )\n",
    "        if self.__optimize :\n",
    "            B = self.__get_eigenvec_for_original_matrix(X, eigenvecs )\n",
    "        else:\n",
    "            B = eigenvecs\n",
    "            \n",
    "        self.__B = B\n",
    "        self.__w = eigenvals\n",
    "        return B\n",
    "        \n",
    "    def plot_eigenvals ( self ):\n",
    "        c = np.cumsum ( self.__w )\n",
    "        plt.plot( c )\n",
    "        \n",
    "    def get_num_components ( self, variance_threshold):\n",
    "        variance_ratio = self.__w/np.sum(self.__w)\n",
    "        s = 0\n",
    "        i = -1\n",
    "        while s < variance_threshold and s < 1.0:\n",
    "            i += 1\n",
    "            s +=  variance_ratio[i]\n",
    "            \n",
    "        return i"
   ]
  },
  {
   "cell_type": "code",
   "execution_count": 152,
   "metadata": {},
   "outputs": [],
   "source": [
    "def show_images( images, num_images_to_show ):\n",
    "    fig = plt.figure()\n",
    "    for i in range(1,num_images_to_show+1):\n",
    "        fig.add_subplot(1,num_images_to_show,i)\n",
    "        img = np.reshape( images[:,i-1], (64,64) )\n",
    "        plt.imshow(img, cmap='gray')"
   ]
  },
  {
   "cell_type": "code",
   "execution_count": 153,
   "metadata": {},
   "outputs": [
    {
     "name": "stdout",
     "output_type": "stream",
     "text": [
      "23\n"
     ]
    },
    {
     "data": {
      "image/png": "[encoded data removed]",
      "text/plain": [
       "<Figure size 432x288 with 1 Axes>"
      ]
     },
     "metadata": {
      "needs_background": "light"
     },
     "output_type": "display_data"
    },
    {
     "data": {
      "image/png": "[encoded data removed]",
      "text/plain": [
       "<Figure size 432x288 with 4 Axes>"
      ]
     },
     "metadata": {
      "needs_background": "light"
     },
     "output_type": "display_data"
    }
   ],
   "source": [
    "pca = PCA( optimize = True )\n",
    "B = pca.fit(X_train)\n",
    "pca.plot_eigenvals()\n",
    "num_dim = pca.get_num_components(0.9999)\n",
    "print( num_dim )\n",
    "B = B[:,:num_dim]\n",
    "# show top 4 eigenfaces\n",
    "show_images( B, 4 )"
   ]
  },
  {
   "cell_type": "code",
   "execution_count": 154,
   "metadata": {},
   "outputs": [],
   "source": [
    "class Projection:\n",
    "    def __init__( self, B ):\n",
    "        self.B = B\n",
    "        \n",
    "    def reduce_dim( self, X ):\n",
    "        return  X @ B @ np.linalg.inv(B.T @ B)  \n",
    "\n",
    "    def reconstruct( self, X_reduced ):\n",
    "        return X_reduced @ B.T\n",
    "    \n",
    "    def get_projection_matrix( self ):\n",
    "        P = B @ np.linalg.inv(B.T @ B) @ B.T\n",
    "        return P\n",
    "    \n",
    "    def project( self , X ):\n",
    "        P = self.get_projection_matrix()\n",
    "        return X @ P"
   ]
  },
  {
   "cell_type": "code",
   "execution_count": 155,
   "metadata": {},
   "outputs": [
    {
     "name": "stdout",
     "output_type": "stream",
     "text": [
      "X_train_reduced.shape=(25, 23)\n"
     ]
    },
    {
     "data": {
      "image/png": "[encoded data removed]",
      "text/plain": [
       "<Figure size 432x288 with 1 Axes>"
      ]
     },
     "metadata": {
      "needs_background": "light"
     },
     "output_type": "display_data"
    },
    {
     "data": {
      "image/png": "[encoded data removed]",
      "text/plain": [
       "<Figure size 432x288 with 1 Axes>"
      ]
     },
     "metadata": {
      "needs_background": "light"
     },
     "output_type": "display_data"
    }
   ],
   "source": [
    "proj = Projection( B )\n",
    "X_train_reduced = proj.reduce_dim(X_train )\n",
    "print(\"X_train_reduced.shape=\"+str(X_train_reduced.shape) )\n",
    "show_images(X_train.T, 1)\n",
    "r_img = proj.reconstruct( X_train_reduced[0,:])\n",
    "r_img = np.reshape(r_img,(4096,1))\n",
    "show_images(r_img, 1)"
   ]
  },
  {
   "cell_type": "code",
   "execution_count": 156,
   "metadata": {},
   "outputs": [
    {
     "name": "stdout",
     "output_type": "stream",
     "text": [
      "X_test_reduced.shape=(11, 23)\n"
     ]
    }
   ],
   "source": [
    "X_test_reduced =proj.reduce_dim(X_test)\n",
    "print(\"X_test_reduced.shape=\"+str(X_test_reduced.shape) )"
   ]
  },
  {
   "cell_type": "code",
   "execution_count": 157,
   "metadata": {},
   "outputs": [],
   "source": [
    "class ImageClassifier:\n",
    "    def __init__( self, class_count ):\n",
    "        self.class_count = class_count\n",
    "        \n",
    "    def __get_class_mean( self, X, target ):\n",
    "        class_count = self.class_count\n",
    "        N,D = X.shape\n",
    "        mu = np.zeros((class_count,D))\n",
    "        for i in range(class_count):\n",
    "            mu[i,:] = (1/N) * np.sum(X[target == i,: ], axis = 0 )\n",
    "        return mu \n",
    "\n",
    "    def __dist(self, v1, v2 ):\n",
    "        diff = v1-v2\n",
    "        d = np.sqrt(np.dot(diff,diff))\n",
    "        return d\n",
    "                  \n",
    "    def fit( self,  X, target  ):\n",
    "        class_count = self.class_count\n",
    "        mu = self.__get_class_mean( X, target )\n",
    "        self.mu = mu\n",
    "        \n",
    "    def predict( self, test_img ):\n",
    "        min_dist = np.inf\n",
    "        min_class = -1\n",
    "        for i in range( self.class_count ):\n",
    "            d = self.__dist(test_img, self.mu[i,:])\n",
    "            if d < min_dist:\n",
    "                min_dist = d\n",
    "                min_class = i\n",
    "            \n",
    "        return min_class, self.mu[min_class,:]"
   ]
  },
  {
   "cell_type": "code",
   "execution_count": 158,
   "metadata": {},
   "outputs": [
    {
     "name": "stdout",
     "output_type": "stream",
     "text": [
      "X_test_reduced.shape=(11, 23)\n",
      "X_train_reduced.shape=(25, 23)\n",
      "recognized_class=3\n"
     ]
    }
   ],
   "source": [
    "print(\"X_test_reduced.shape=\" + str(X_test_reduced.shape))\n",
    "print(\"X_train_reduced.shape=\" + str(X_train_reduced.shape))\n",
    "img_classifer = ImageClassifier(5)   \n",
    "img_classifer.fit(X_train_reduced,y_train )\n",
    "recognized_class, mu_rec = img_classifer.predict( X_test_reduced[3,: ] )\n",
    "print(\"recognized_class=\"+ str(recognized_class))"
   ]
  },
  {
   "cell_type": "code",
   "execution_count": 159,
   "metadata": {},
   "outputs": [
    {
     "name": "stdout",
     "output_type": "stream",
     "text": [
      "accuracy of model 50.0 %\n"
     ]
    }
   ],
   "source": [
    "acc = 0\n",
    "pred = []\n",
    "for i in range(len(y_test)):\n",
    "    y_hat,mu = img_classifer.predict(X_test_reduced[i,:])\n",
    "    pred.append(y_hat)\n",
    "    if y_hat == y_test[i]:\n",
    "        acc += 1\n",
    "print(f\"accuracy of model {(acc/8)*100} %\")"
   ]
  },
  {
   "cell_type": "code",
   "execution_count": null,
   "metadata": {},
   "outputs": [],
   "source": []
  }
 ],
 "metadata": {
  "kernelspec": {
   "display_name": "Python 3",
   "language": "python",
   "name": "python3"
  },
  "language_info": {
   "codemirror_mode": {
    "name": "ipython",
    "version": 3
   },
   "file_extension": ".py",
   "mimetype": "text/x-python",
   "name": "python",
   "nbconvert_exporter": "python",
   "pygments_lexer": "ipython3",
   "version": "3.8.3"
  },
  "orig_nbformat": 4
 },
 "nbformat": 4,
 "nbformat_minor": 2
}
