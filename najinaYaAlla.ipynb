{
 "cells": [
  {
   "cell_type": "code",
   "execution_count": 1,
   "metadata": {},
   "outputs": [],
   "source": [
    "import numpy as np\n",
    "import cv2\n",
    "from New_PCA import NPCA\n",
    "from Classify import Classify\n",
    "import matplotlib.pyplot as plt\n",
    "from FaceDetection import FaceDetection \n",
    "import os"
   ]
  },
  {
   "cell_type": "code",
   "execution_count": 2,
   "metadata": {},
   "outputs": [],
   "source": [
    "Face = FaceDetection()"
   ]
  },
  {
   "cell_type": "code",
   "execution_count": 23,
   "metadata": {},
   "outputs": [
    {
     "name": "stdout",
     "output_type": "stream",
     "text": [
      "1\n",
      "1\n",
      "1\n",
      "1\n",
      "2\n",
      "1\n",
      "1\n",
      "1\n",
      "1\n",
      "1\n",
      "1\n",
      "1\n",
      "1\n",
      "1\n",
      "1\n",
      "1\n",
      "1\n",
      "1\n",
      "1\n",
      "1\n",
      "1\n",
      "1\n",
      "1\n",
      "1\n",
      "1\n",
      "1\n",
      "1\n",
      "1\n",
      "1\n",
      "1\n",
      "1\n",
      "1\n",
      "1\n",
      "1\n",
      "1\n",
      "1\n",
      "1\n",
      "1\n",
      "1\n",
      "1\n",
      "1\n",
      "1\n",
      "1\n",
      "1\n",
      "1\n",
      "2\n",
      "1\n",
      "1\n",
      "1\n"
     ]
    }
   ],
   "source": [
    "names = ['Ahmed']\n",
    "for j in range(len(names)):\n",
    "    folder = os.listdir(f'./Basmaga/{names[j]}')\n",
    "    for file in folder:\n",
    "        img_path = f'./Basmaga/{names[j]}/{file}'\n",
    "        img = cv2.imread(img_path,0)\n",
    "        n,dim  = Face.detect_faces(img_path)\n",
    "        if n == 0:\n",
    "            continue\n",
    "        print(n)\n",
    "        imgs_n = []\n",
    "        pred = []\n",
    "        for i in range(n):\n",
    "            new_img = img[dim[i][1]:dim[i][1]+dim[i][3],dim[i][0]:dim[i][0]+dim[i][2]]\n",
    "            new_img = cv2.resize(new_img,(64,64))\n",
    "            cv2.imwrite(f'./Basmaga/{names[j]}/{file}',new_img)\n"
   ]
  },
  {
   "cell_type": "code",
   "execution_count": 21,
   "metadata": {},
   "outputs": [
    {
     "name": "stdout",
     "output_type": "stream",
     "text": [
      "1\n",
      "1\n",
      "1\n",
      "1\n",
      "1\n",
      "1\n",
      "1\n",
      "1\n",
      "1\n",
      "1\n",
      "1\n",
      "1\n",
      "1\n",
      "1\n",
      "1\n",
      "1\n",
      "1\n",
      "1\n",
      "1\n",
      "1\n",
      "1\n",
      "1\n",
      "1\n",
      "1\n",
      "1\n",
      "1\n",
      "1\n",
      "2\n",
      "2\n",
      "1\n",
      "1\n",
      "1\n",
      "1\n",
      "1\n",
      "1\n",
      "1\n",
      "1\n",
      "1\n",
      "1\n",
      "1\n",
      "1\n",
      "1\n",
      "1\n",
      "1\n",
      "1\n",
      "1\n",
      "1\n",
      "1\n",
      "2\n",
      "2\n",
      "1\n",
      "1\n",
      "1\n",
      "1\n",
      "1\n",
      "2\n",
      "1\n",
      "1\n",
      "2\n",
      "2\n",
      "1\n",
      "2\n",
      "1\n",
      "1\n",
      "1\n",
      "1\n",
      "1\n",
      "1\n",
      "1\n",
      "1\n",
      "2\n",
      "2\n",
      "1\n",
      "1\n",
      "1\n",
      "1\n",
      "1\n",
      "2\n",
      "2\n",
      "1\n",
      "1\n",
      "1\n",
      "1\n",
      "1\n",
      "1\n",
      "1\n",
      "1\n",
      "2\n",
      "1\n",
      "1\n",
      "2\n",
      "1\n",
      "1\n",
      "1\n",
      "1\n",
      "1\n"
     ]
    },
    {
     "ename": "FileNotFoundError",
     "evalue": "[Errno 2] No such file or directory: './Basmaga/Abdelrhman'",
     "output_type": "error",
     "traceback": [
      "\u001b[0;31m---------------------------------------------------------------------------\u001b[0m",
      "\u001b[0;31mFileNotFoundError\u001b[0m                         Traceback (most recent call last)",
      "\u001b[1;32m/home/dina/Pictures/cv/cv_Project/najinaYaAlla.ipynb Cell 4\u001b[0m in \u001b[0;36m3\n\u001b[1;32m      <a href='vscode-notebook-cell:/home/dina/Pictures/cv/cv_Project/najinaYaAlla.ipynb#W2sZmlsZQ%3D%3D?line=0'>1</a>\u001b[0m names \u001b[39m=\u001b[39m [\u001b[39m'\u001b[39m\u001b[39mRabea\u001b[39m\u001b[39m'\u001b[39m,\u001b[39m'\u001b[39m\u001b[39mNasser\u001b[39m\u001b[39m'\u001b[39m,\u001b[39m'\u001b[39m\u001b[39mAbdelrhman\u001b[39m\u001b[39m'\u001b[39m,\u001b[39m'\u001b[39m\u001b[39mAhmed\u001b[39m\u001b[39m'\u001b[39m]\n\u001b[1;32m      <a href='vscode-notebook-cell:/home/dina/Pictures/cv/cv_Project/najinaYaAlla.ipynb#W2sZmlsZQ%3D%3D?line=1'>2</a>\u001b[0m \u001b[39mfor\u001b[39;00m j \u001b[39min\u001b[39;00m \u001b[39mrange\u001b[39m(\u001b[39mlen\u001b[39m(names)):\n\u001b[0;32m----> <a href='vscode-notebook-cell:/home/dina/Pictures/cv/cv_Project/najinaYaAlla.ipynb#W2sZmlsZQ%3D%3D?line=2'>3</a>\u001b[0m     folder \u001b[39m=\u001b[39m os\u001b[39m.\u001b[39;49mlistdir(\u001b[39mf\u001b[39;49m\u001b[39m'\u001b[39;49m\u001b[39m./Basmaga/\u001b[39;49m\u001b[39m{\u001b[39;49;00mnames[j]\u001b[39m}\u001b[39;49;00m\u001b[39m'\u001b[39;49m)\n\u001b[1;32m      <a href='vscode-notebook-cell:/home/dina/Pictures/cv/cv_Project/najinaYaAlla.ipynb#W2sZmlsZQ%3D%3D?line=3'>4</a>\u001b[0m     \u001b[39mfor\u001b[39;00m file \u001b[39min\u001b[39;00m folder:\n\u001b[1;32m      <a href='vscode-notebook-cell:/home/dina/Pictures/cv/cv_Project/najinaYaAlla.ipynb#W2sZmlsZQ%3D%3D?line=4'>5</a>\u001b[0m         img_path \u001b[39m=\u001b[39m \u001b[39mf\u001b[39m\u001b[39m'\u001b[39m\u001b[39m./Basmaga/\u001b[39m\u001b[39m{\u001b[39;00mnames[j]\u001b[39m}\u001b[39;00m\u001b[39m/\u001b[39m\u001b[39m{\u001b[39;00mfile\u001b[39m}\u001b[39;00m\u001b[39m'\u001b[39m\n",
      "\u001b[0;31mFileNotFoundError\u001b[0m: [Errno 2] No such file or directory: './Basmaga/Abdelrhman'"
     ]
    }
   ],
   "source": [
    "# names = ['Rabea','Nasser','Abdelrhman','Ahmed']\n",
    "# for j in range(len(names)):\n",
    "#     folder = os.listdir(f'./Basmaga/{names[j]}')\n",
    "#     for file in folder:\n",
    "#         img_path = f'./Basmaga/{names[j]}/{file}'\n",
    "#         img = cv2.imread(img_path,0)\n",
    "#         n,dim  = Face.detect_faces(img_path)\n",
    "#         if n == 0:\n",
    "#             continue\n",
    "#         print(n)\n",
    "#         imgs_n = []\n",
    "#         pred = []\n",
    "#         for i in range(n):\n",
    "#             new_img = img[dim[i][1]:dim[i][1]+dim[i][3],dim[i][0]:dim[i][0]+dim[i][2]]\n",
    "#             new_img = cv2.resize(new_img,(64,64))\n",
    "#             cv2.imwrite(f'./Basmaga/{names[j]}/{file}',new_img)\n"
   ]
  },
  {
   "cell_type": "code",
   "execution_count": 46,
   "metadata": {},
   "outputs": [],
   "source": [
    "# load Abdelrhman, nasser and Rabea images as numpy arrays\n",
    "names = ['Rabea','Nasser','Abdelrhman']\n",
    "\n",
    "X = []\n",
    "y = []\n",
    "for j in range(len(names)):\n",
    "    folder = os.listdir(f'./Basmaga/{names[j]}')\n",
    "    for file in folder:\n",
    "        img_path = f'./Basmaga/{names[j]}/{file}'\n",
    "        img = cv2.imread(img_path,0)\n",
    "        X.append(np.array(img))\n",
    "        y.append(j)"
   ]
  },
  {
   "cell_type": "code",
   "execution_count": 34,
   "metadata": {},
   "outputs": [],
   "source": [
    "# apply PCA on the images\n",
    "pca = NPCA()\n",
    "pca.apply_pca(np.array(X))\n",
    "pca.cut_values(0.95)\n",
    "X = pca.reduce_dim(pca.preprocess_data(np.array(X)))\n",
    "X = np.array(X)\n"
   ]
  },
  {
   "cell_type": "code",
   "execution_count": 35,
   "metadata": {},
   "outputs": [],
   "source": [
    "# save pca parameters\n",
    "pca.save_preprocessing()"
   ]
  },
  {
   "cell_type": "code",
   "execution_count": 36,
   "metadata": {},
   "outputs": [
    {
     "data": {
      "text/plain": [
       "array([[-0.10149547,  0.00768486, -0.09533562, ..., -0.07533711,\n",
       "         0.03776784,  0.03884092],\n",
       "       [ 0.0259054 , -0.12997093, -0.00100362, ..., -0.07492233,\n",
       "        -0.04323494,  0.17885611],\n",
       "       [ 0.02194444, -0.09439192,  0.00491046, ..., -0.02201735,\n",
       "        -0.04810443, -0.13428097],\n",
       "       ...,\n",
       "       [ 0.05433498,  0.07058419, -0.02243653, ..., -0.05232313,\n",
       "        -0.007394  , -0.02183283],\n",
       "       [ 0.06724932,  0.09877874,  0.04024204, ..., -0.09408538,\n",
       "         0.03073859,  0.00959736],\n",
       "       [ 0.10679355,  0.04472055, -0.13248073, ...,  0.00360303,\n",
       "        -0.07919624, -0.06043293]])"
      ]
     },
     "execution_count": 36,
     "metadata": {},
     "output_type": "execute_result"
    }
   ],
   "source": [
    "X"
   ]
  },
  {
   "cell_type": "code",
   "execution_count": 37,
   "metadata": {},
   "outputs": [],
   "source": [
    "# split data into train and test sets\n",
    "from sklearn.model_selection import train_test_split\n",
    "X_train,X_test,y_train,y_test = train_test_split(X,np.array(y),test_size = 0.2,random_state = 42)\n"
   ]
  },
  {
   "cell_type": "code",
   "execution_count": 38,
   "metadata": {},
   "outputs": [],
   "source": [
    "# save model weights\n",
    "Model = Classify()\n",
    "Model.fit(X_train,y_train,3)\n",
    "Model.save_weights()"
   ]
  },
  {
   "cell_type": "code",
   "execution_count": 39,
   "metadata": {},
   "outputs": [
    {
     "name": "stdout",
     "output_type": "stream",
     "text": [
      "0.9629629629629629\n"
     ]
    }
   ],
   "source": [
    "# test model\n",
    "acc = 0\n",
    "for i in range(len(X_test)):\n",
    "    y_hat = Model.predict(X_test[i,:])\n",
    "    if y_hat == y_test[i]:\n",
    "        acc += 1\n",
    "print(acc/len(X_test))\n",
    "        "
   ]
  },
  {
   "cell_type": "code",
   "execution_count": 40,
   "metadata": {},
   "outputs": [
    {
     "name": "stdout",
     "output_type": "stream",
     "text": [
      "['Abdelrhman']\n"
     ]
    }
   ],
   "source": [
    "# read input image\n",
    "img = cv2.imread('Basmaga_NOProcess/Abdelrhman /B612_20230517_220515_191.jpg',0)\n",
    "\n",
    "# detect faces in the image\n",
    "n,dim = Face.detect_faces('Basmaga_NOProcess/Abdelrhman /B612_20230517_220515_191.jpg')\n",
    "\n",
    "# predict the faces\n",
    "imgs_n = []\n",
    "pred = []\n",
    "for i in range(n):\n",
    "    new_img = img[dim[i][1]:dim[i][1]+dim[i][3],dim[i][0]:dim[i][0]+dim[i][2]]\n",
    "    new_img = cv2.resize(new_img,(64,64))\n",
    "    imgs_n.append(new_img)\n",
    "imgs_n = np.array(imgs_n)\n",
    "ll = pca.preprocess_data(imgs_n)\n",
    "\n",
    "ll = pca.reduce_dim(ll)\n",
    "for i in range(n):\n",
    "    y_hat = Model.predict(ll[i,:])\n",
    "    pred.append(names[y_hat])\n",
    "print(pred)\n",
    "\n"
   ]
  },
  {
   "cell_type": "code",
   "execution_count": 41,
   "metadata": {},
   "outputs": [
    {
     "data": {
      "text/plain": [
       "0.9629629629629629"
      ]
     },
     "execution_count": 41,
     "metadata": {},
     "output_type": "execute_result"
    }
   ],
   "source": [
    "# train svm model\n",
    "from sklearn.svm import SVC\n",
    "clf = SVC()\n",
    "clf.fit(X_train,y_train)\n",
    "clf.score(X_test,y_test)\n"
   ]
  },
  {
   "cell_type": "code",
   "execution_count": 50,
   "metadata": {},
   "outputs": [
    {
     "name": "stdout",
     "output_type": "stream",
     "text": [
      "Abdelrhman\n"
     ]
    }
   ],
   "source": [
    "# read input image\n",
    "img = cv2.imread('Basmaga_NOProcess/Abdelrhman /B612_20230517_220515_191.jpg',0)\n",
    "\n",
    "# detect faces in the image\n",
    "n,dim = Face.detect_faces('Basmaga_NOProcess/Abdelrhman /B612_20230517_220515_191.jpg')\n",
    "\n",
    "# predict the faces\n",
    "imgs_n = []\n",
    "pred = []\n",
    "for i in range(n):\n",
    "    new_img = img[dim[i][1]:dim[i][1]+dim[i][3],dim[i][0]:dim[i][0]+dim[i][2]]\n",
    "    new_img = cv2.resize(new_img,(64,64))\n",
    "    imgs_n.append(new_img)\n",
    "imgs_n = np.array(imgs_n)\n",
    "ll = pca.preprocess_data(imgs_n)\n",
    "\n",
    "ll = pca.reduce_dim(ll)\n",
    "for i in range(n):\n",
    "    y_hat = clf.predict(ll[i,:].reshape(1,-1))\n",
    "    print(names[y_hat[0]])\n",
    "\n",
    "\n"
   ]
  },
  {
   "cell_type": "code",
   "execution_count": null,
   "metadata": {},
   "outputs": [],
   "source": [
    "# save svm weights\n"
   ]
  },
  {
   "cell_type": "code",
   "execution_count": 47,
   "metadata": {},
   "outputs": [],
   "source": [
    "# Save X, Y as npy files\n",
    "# np.save('X',X)\n",
    "# np.save('y',y)\n"
   ]
  }
 ],
 "metadata": {
  "kernelspec": {
   "display_name": "Python 3",
   "language": "python",
   "name": "python3"
  },
  "language_info": {
   "codemirror_mode": {
    "name": "ipython",
    "version": 3
   },
   "file_extension": ".py",
   "mimetype": "text/x-python",
   "name": "python",
   "nbconvert_exporter": "python",
   "pygments_lexer": "ipython3",
   "version": "3.10.6"
  },
  "orig_nbformat": 4
 },
 "nbformat": 4,
 "nbformat_minor": 2
}
